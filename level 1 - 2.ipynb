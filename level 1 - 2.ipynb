{
 "cells": [
  {
   "cell_type": "code",
   "execution_count": null,
   "id": "ccd563ce-fb8c-4726-9dbb-d8a0988e4028",
   "metadata": {},
   "outputs": [],
   "source": [
    "# Se definen las variables de los destinos con sus datos\n",
    "destinations = {\n",
    "    'winter': {'Andorra': {'activities': ['skiing'], 'cost': 100}, 'Switzerland': {'activities': ['tour'], 'cost': 100}},\n",
    "    'summer': {'Spain': {'activities': ['hiking', 'extreme sports'], 'cost': 400}, 'Portugal': {'activities': ['beach'], 'cost': 400}},\n",
    "    'spring': {'France': {'activities': ['extreme sports'], 'cost': 300}, 'Italy': {'activities': ['cultural', 'historical'], 'cost': 300}},\n",
    "    'autumn': {'Belgium': {'activities': ['hiking', 'extreme sports'], 'cost': 200}, 'Austria': {'activities': ['cultural', 'historical'], 'cost': 200}}\n",
    "}\n",
    "\n",
    "# Obtener las preferencias del usuario por temporada, actividad y presupuesto\n",
    "def get_user_preferences():\n",
    "    season = input(\"Enter your preferred season (winter, summer, spring, autumn): \")\n",
    "    activity = input(\"Enter your preferred activity (skiing, tour, hiking, extreme sports, beach, cultural, historical): \")\n",
    "    budget = int(input(\"Enter your budget: \"))\n",
    "    return season, activity, budget\n",
    "\n",
    "# Recomendar un destino en función de las preferencias del usuario\n",
    "def recommend_destination(season, activity, budget):\n",
    "    for destination, details in destinations[season].items():\n",
    "        if activity in details['activities'] and details['cost'] <= budget:\n",
    "            return destination\n",
    "    return \"No matching destination found\"\n",
    "\n",
    "# Obtener las preferencias del usuario\n",
    "season, activity, budget = get_user_preferences()\n",
    "\n",
    "# Recomendar un destino en función de las preferencias del usuario\n",
    "destination = recommend_destination(season, activity, budget)\n",
    "\n",
    "# Imprimir el destino recomendado\n",
    "print(f\"Your best destination would be: {destination}\")"
   ]
  }
 ],
 "metadata": {
  "kernelspec": {
   "display_name": "Python 3 (ipykernel)",
   "language": "python",
   "name": "python3"
  },
  "language_info": {
   "codemirror_mode": {
    "name": "ipython",
    "version": 3
   },
   "file_extension": ".py",
   "mimetype": "text/x-python",
   "name": "python",
   "nbconvert_exporter": "python",
   "pygments_lexer": "ipython3",
   "version": "3.11.4"
  }
 },
 "nbformat": 4,
 "nbformat_minor": 5
}
